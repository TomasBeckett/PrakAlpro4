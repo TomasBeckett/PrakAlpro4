{
 "cells": [
  {
   "cell_type": "code",
   "execution_count": 1,
   "id": "7b143935-b1f8-420e-b3fe-200f27aa9e8b",
   "metadata": {},
   "outputs": [
    {
     "name": "stdout",
     "output_type": "stream",
     "text": [
      "True\n",
      "True\n",
      "False\n",
      "True\n",
      "False\n"
     ]
    }
   ],
   "source": [
    "def cek_angka(a, b, c):\n",
    "    if (a != b and a != c and b != c) and ((a + b == c) or (a + c == b) or (b + c == a)):\n",
    "        return True\n",
    "    else:\n",
    "        return False\n",
    "\n",
    "print(cek_angka(9, 5, 4))\n",
    "print(cek_angka(3, 5, 2))\n",
    "print(cek_angka(2, 4, 2))\n",
    "print(cek_angka(4, 7, 11))\n",
    "print(cek_angka(2, 5, 4))"
   ]
  },
  {
   "cell_type": "code",
   "execution_count": 2,
   "id": "1961081e-60f1-4241-a5cf-06c717cb2cde",
   "metadata": {},
   "outputs": [
    {
     "name": "stdin",
     "output_type": "stream",
     "text": [
      "Angka 1 :  30\n",
      "Angka 2 :  20\n",
      "Angka 3 :  18\n"
     ]
    },
    {
     "name": "stdout",
     "output_type": "stream",
     "text": [
      "True\n"
     ]
    }
   ],
   "source": [
    "def cek_digit_belakang(a, b, c):\n",
    "        angka1 = a % 10\n",
    "        angka2 = b % 10\n",
    "        angka3 = c % 10\n",
    "\n",
    "        if angka1 == angka2 or angka1 == angka3 or angka2 == angka3:\n",
    "            return True\n",
    "        else:\n",
    "            return False\n",
    "        \n",
    "a = int(input(\"Angka 1 : \"))\n",
    "b = int(input(\"Angka 2 : \"))\n",
    "c = int(input(\"Angka 3 : \"))\n",
    "\n",
    "result = cek_digit_belakang(a, b, c)\n",
    "print(result)"
   ]
  },
  {
   "cell_type": "code",
   "execution_count": 4,
   "id": "04b2b98b-148e-4e37-a361-6a38c21bf93a",
   "metadata": {},
   "outputs": [
    {
     "name": "stdin",
     "output_type": "stream",
     "text": [
      "Input Celcius =  80\n"
     ]
    },
    {
     "name": "stdout",
     "output_type": "stream",
     "text": [
      "Ouput Farenheit :  176\n",
      "Output Reamur :  64\n"
     ]
    }
   ],
   "source": [
    "celcius_fahrenheit = lambda c: (9/5) * c + 32\n",
    "celcius_reamur = lambda c: 0.8 * c\n",
    "\n",
    "celcius = int(input(\"Input Celcius = \"))\n",
    "\n",
    "print(\"Ouput Farenheit : \", int(celcius_fahrenheit(celcius)))\n",
    "print(\"Output Reamur : \", int(celcius_reamur(celcius)))"
   ]
  },
  {
   "cell_type": "code",
   "execution_count": null,
   "id": "d348ae54-6d88-46da-8f69-6d3fc2f2d491",
   "metadata": {},
   "outputs": [],
   "source": []
  }
 ],
 "metadata": {
  "kernelspec": {
   "display_name": "Python 3 (ipykernel)",
   "language": "python",
   "name": "python3"
  },
  "language_info": {
   "codemirror_mode": {
    "name": "ipython",
    "version": 3
   },
   "file_extension": ".py",
   "mimetype": "text/x-python",
   "name": "python",
   "nbconvert_exporter": "python",
   "pygments_lexer": "ipython3",
   "version": "3.11.3"
  }
 },
 "nbformat": 4,
 "nbformat_minor": 5
}
